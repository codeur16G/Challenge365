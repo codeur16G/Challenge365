{
 "cells": [
  {
   "cell_type": "code",
   "execution_count": 1,
   "id": "8f201ae9-dc32-4803-98f8-3fb577072aa9",
   "metadata": {},
   "outputs": [],
   "source": [
    "# Importer le package requests\n",
    "import requests\n",
    "import pandas as pd\n",
    "from pymongo import MongoClient\n",
    "from datetime import datetime\n",
    "from statsmodels.tsa.arima.model import ARIMA"
   ]
  },
  {
   "cell_type": "markdown",
   "id": "b4111640-5c9c-4e9e-ace2-fb17ae4062a3",
   "metadata": {},
   "source": [
    "## Extraction de données"
   ]
  },
  {
   "cell_type": "markdown",
   "id": "660a1dcb-b286-4b06-91d1-2559cb70dbe2",
   "metadata": {},
   "source": [
    "Extraire les données depuis l'API de AirQuino"
   ]
  },
  {
   "cell_type": "code",
   "execution_count": 2,
   "id": "8f014b40-dbd1-4331-b25a-9b6e5af33cfc",
   "metadata": {},
   "outputs": [],
   "source": [
    "# l'URL de l'API \n",
    "url = r'https://airqino-api.magentalab.it/v3/getStationHourlyAvg/283164601'\n",
    "\n",
    "# Effectuer la requête GET\n",
    "response = requests.get(url) \n",
    "\n",
    "# Vérifier si la réponse est réussi \n",
    "if response.status_code == 200:\n",
    "    # Traiter les données JSON\n",
    "    data = response.json()\n",
    "else:\n",
    "    print(f\"Erreur : {response.status_code}\")"
   ]
  },
  {
   "cell_type": "code",
   "execution_count": 3,
   "id": "dcadf3c6-dcf8-4f21-b5ac-77bb2b399a73",
   "metadata": {},
   "outputs": [
    {
     "data": {
      "text/html": [
       "<div>\n",
       "<style scoped>\n",
       "    .dataframe tbody tr th:only-of-type {\n",
       "        vertical-align: middle;\n",
       "    }\n",
       "\n",
       "    .dataframe tbody tr th {\n",
       "        vertical-align: top;\n",
       "    }\n",
       "\n",
       "    .dataframe thead th {\n",
       "        text-align: right;\n",
       "    }\n",
       "</style>\n",
       "<table border=\"1\" class=\"dataframe\">\n",
       "  <thead>\n",
       "    <tr style=\"text-align: right;\">\n",
       "      <th></th>\n",
       "      <th>timestamp</th>\n",
       "      <th>CO</th>\n",
       "      <th>T</th>\n",
       "      <th>T. int.</th>\n",
       "      <th>NO2</th>\n",
       "      <th>O3</th>\n",
       "      <th>PM10</th>\n",
       "      <th>PM2.5</th>\n",
       "      <th>RH</th>\n",
       "    </tr>\n",
       "  </thead>\n",
       "  <tbody>\n",
       "    <tr>\n",
       "      <th>0</th>\n",
       "      <td>2023-09-15 16:00:00</td>\n",
       "      <td>0.0</td>\n",
       "      <td>28.186666</td>\n",
       "      <td>389.36667</td>\n",
       "      <td>19.086350</td>\n",
       "      <td>28.631033</td>\n",
       "      <td>13.600000</td>\n",
       "      <td>3.133333</td>\n",
       "      <td>77.54000</td>\n",
       "    </tr>\n",
       "    <tr>\n",
       "      <th>1</th>\n",
       "      <td>2023-09-15 17:00:00</td>\n",
       "      <td>0.0</td>\n",
       "      <td>27.443335</td>\n",
       "      <td>381.36667</td>\n",
       "      <td>19.367783</td>\n",
       "      <td>26.835968</td>\n",
       "      <td>17.266666</td>\n",
       "      <td>4.500000</td>\n",
       "      <td>81.10000</td>\n",
       "    </tr>\n",
       "    <tr>\n",
       "      <th>2</th>\n",
       "      <td>2023-09-15 18:00:00</td>\n",
       "      <td>0.0</td>\n",
       "      <td>26.913334</td>\n",
       "      <td>374.90000</td>\n",
       "      <td>19.750890</td>\n",
       "      <td>24.654322</td>\n",
       "      <td>16.400000</td>\n",
       "      <td>4.200000</td>\n",
       "      <td>85.25667</td>\n",
       "    </tr>\n",
       "    <tr>\n",
       "      <th>3</th>\n",
       "      <td>2023-09-15 19:00:00</td>\n",
       "      <td>0.0</td>\n",
       "      <td>26.503334</td>\n",
       "      <td>370.36667</td>\n",
       "      <td>20.310297</td>\n",
       "      <td>21.759440</td>\n",
       "      <td>21.900000</td>\n",
       "      <td>8.200000</td>\n",
       "      <td>86.87334</td>\n",
       "    </tr>\n",
       "    <tr>\n",
       "      <th>4</th>\n",
       "      <td>2023-09-15 20:00:00</td>\n",
       "      <td>0.0</td>\n",
       "      <td>26.223333</td>\n",
       "      <td>367.63333</td>\n",
       "      <td>19.783640</td>\n",
       "      <td>24.070265</td>\n",
       "      <td>14.866667</td>\n",
       "      <td>5.000000</td>\n",
       "      <td>90.67667</td>\n",
       "    </tr>\n",
       "  </tbody>\n",
       "</table>\n",
       "</div>"
      ],
      "text/plain": [
       "             timestamp   CO          T    T. int.        NO2         O3  \\\n",
       "0  2023-09-15 16:00:00  0.0  28.186666  389.36667  19.086350  28.631033   \n",
       "1  2023-09-15 17:00:00  0.0  27.443335  381.36667  19.367783  26.835968   \n",
       "2  2023-09-15 18:00:00  0.0  26.913334  374.90000  19.750890  24.654322   \n",
       "3  2023-09-15 19:00:00  0.0  26.503334  370.36667  20.310297  21.759440   \n",
       "4  2023-09-15 20:00:00  0.0  26.223333  367.63333  19.783640  24.070265   \n",
       "\n",
       "        PM10     PM2.5        RH  \n",
       "0  13.600000  3.133333  77.54000  \n",
       "1  17.266666  4.500000  81.10000  \n",
       "2  16.400000  4.200000  85.25667  \n",
       "3  21.900000  8.200000  86.87334  \n",
       "4  14.866667  5.000000  90.67667  "
      ]
     },
     "execution_count": 3,
     "metadata": {},
     "output_type": "execute_result"
    }
   ],
   "source": [
    "# convertion des données en dataFrame \n",
    "df = pd.DataFrame(data['data'])\n",
    "\n",
    "# Affichage du tableau \n",
    "df.head()"
   ]
  },
  {
   "cell_type": "code",
   "execution_count": 5,
   "id": "382663ae-d41c-41ce-a918-303acf93d36e",
   "metadata": {},
   "outputs": [],
   "source": [
    "# Convertir le timestamp en format datetime \n",
    "df['timestamp'] = pd.to_datetime(df['timestamp'])"
   ]
  },
  {
   "cell_type": "code",
   "execution_count": 6,
   "id": "f4fb8c05-6e51-4760-ada4-761346d1b8d9",
   "metadata": {},
   "outputs": [],
   "source": [
    "# Extraire la date seulement\n",
    "df['date'] = df['timestamp'].dt.date"
   ]
  },
  {
   "cell_type": "code",
   "execution_count": 7,
   "id": "651138f4-de33-4b13-af7f-e8731268ae9e",
   "metadata": {},
   "outputs": [
    {
     "data": {
      "text/html": [
       "<div>\n",
       "<style scoped>\n",
       "    .dataframe tbody tr th:only-of-type {\n",
       "        vertical-align: middle;\n",
       "    }\n",
       "\n",
       "    .dataframe tbody tr th {\n",
       "        vertical-align: top;\n",
       "    }\n",
       "\n",
       "    .dataframe thead th {\n",
       "        text-align: right;\n",
       "    }\n",
       "</style>\n",
       "<table border=\"1\" class=\"dataframe\">\n",
       "  <thead>\n",
       "    <tr style=\"text-align: right;\">\n",
       "      <th></th>\n",
       "      <th>date</th>\n",
       "      <th>CO</th>\n",
       "      <th>PM2.5</th>\n",
       "    </tr>\n",
       "  </thead>\n",
       "  <tbody>\n",
       "    <tr>\n",
       "      <th>0</th>\n",
       "      <td>2023-09-15</td>\n",
       "      <td>0.000000</td>\n",
       "      <td>4.720833</td>\n",
       "    </tr>\n",
       "    <tr>\n",
       "      <th>1</th>\n",
       "      <td>2023-09-16</td>\n",
       "      <td>0.000000</td>\n",
       "      <td>3.240771</td>\n",
       "    </tr>\n",
       "    <tr>\n",
       "      <th>2</th>\n",
       "      <td>2023-09-17</td>\n",
       "      <td>0.000000</td>\n",
       "      <td>1.936201</td>\n",
       "    </tr>\n",
       "    <tr>\n",
       "      <th>3</th>\n",
       "      <td>2023-09-18</td>\n",
       "      <td>0.001158</td>\n",
       "      <td>5.365412</td>\n",
       "    </tr>\n",
       "    <tr>\n",
       "      <th>4</th>\n",
       "      <td>2023-09-19</td>\n",
       "      <td>0.000000</td>\n",
       "      <td>6.589651</td>\n",
       "    </tr>\n",
       "  </tbody>\n",
       "</table>\n",
       "</div>"
      ],
      "text/plain": [
       "         date        CO     PM2.5\n",
       "0  2023-09-15  0.000000  4.720833\n",
       "1  2023-09-16  0.000000  3.240771\n",
       "2  2023-09-17  0.000000  1.936201\n",
       "3  2023-09-18  0.001158  5.365412\n",
       "4  2023-09-19  0.000000  6.589651"
      ]
     },
     "execution_count": 7,
     "metadata": {},
     "output_type": "execute_result"
    }
   ],
   "source": [
    "# Calculer la moyenne par jour pour chaque capteur \n",
    "daily_avg = df.groupby(['date'])[['CO','PM2.5']].mean().reset_index()\n",
    "\n",
    "daily_avg.head()"
   ]
  },
  {
   "cell_type": "code",
   "execution_count": 8,
   "id": "94eb4796-df9a-4bf1-8b1d-bb1bbf98f04c",
   "metadata": {},
   "outputs": [],
   "source": [
    "# Connexion a MongoDB \n",
    "client = MongoClient('mongodb://localhost:27017/') \n",
    "db = client['data354']\n",
    "collection = db['daily_averages']"
   ]
  },
  {
   "cell_type": "code",
   "execution_count": 9,
   "id": "c286a346-552f-4675-a50d-b22ed69f121e",
   "metadata": {},
   "outputs": [
    {
     "name": "stdout",
     "output_type": "stream",
     "text": [
      "Données insérées avec succès dans MongoDB!\n"
     ]
    }
   ],
   "source": [
    "# Préparer les données a insérer dans MongoDB \n",
    "records = []\n",
    "for _,row in daily_avg.iterrows():\n",
    "    record = {\n",
    "        \"Station_name\": data['header']['station_name'], \n",
    "        \"date\": row['date'].strftime('%Y-%m-%d'), \n",
    "        \"CO_avg\": row['CO'], \n",
    "        \"PM2.5_avg\": row['PM2.5'],\n",
    "        \"station_lat\": data['header']['station_lat'],\n",
    "        \"station_lon\": data['header']['station_lon']\n",
    "    }\n",
    "    records.append(record)\n",
    "\n",
    "# Insérer les données dans la collection MongoDB \n",
    "collection.insert_many(records)\n",
    "\n",
    "print(\"Données insérées avec succès dans MongoDB!\")"
   ]
  },
  {
   "cell_type": "code",
   "execution_count": 10,
   "id": "f8ca6ec6-4b9f-4e76-a602-c6b62a5cd2a2",
   "metadata": {},
   "outputs": [],
   "source": [
    "# daily_avg.to_csv('challenge354.csv', index=False)"
   ]
  },
  {
   "cell_type": "code",
   "execution_count": 11,
   "id": "c1e3f9f9-f1ec-4155-b7e3-6ba8029aae75",
   "metadata": {},
   "outputs": [],
   "source": [
    "# df.to_csv('data.csv', index=False)"
   ]
  },
  {
   "cell_type": "code",
   "execution_count": 12,
   "id": "5f08eaa1-43ce-4d53-a70e-81a3b06f1867",
   "metadata": {},
   "outputs": [
    {
     "name": "stdout",
     "output_type": "stream",
     "text": [
      "Prévisions ARIMA pour CO: 2024-09-14 16:00:00    0.0\n",
      "2024-09-14 17:00:00    0.0\n",
      "Freq: h, Name: predicted_mean, dtype: float64\n",
      "Prévisions ARIMA pour PM2.5: 2024-09-14 16:00:00    2.062890\n",
      "2024-09-14 17:00:00    2.105639\n",
      "Freq: h, Name: predicted_mean, dtype: float64\n"
     ]
    }
   ],
   "source": [
    "# Convertir la colonne timestamp en datetime\n",
    "df['timestamp'] = pd.to_datetime(df['timestamp'])\n",
    "\n",
    "# Définir le timestamp comme index\n",
    "df.set_index('timestamp', inplace=True)\n",
    "\n",
    "# Définir explicitement la fréquence à 'h' pour les données horaires\n",
    "df = df.asfreq('h')\n",
    "\n",
    "# Appliquer ARIMA pour prédire CO\n",
    "model_co = ARIMA(df['CO'], order=(5, 1, 0))  \n",
    "model_co_fit = model_co.fit()\n",
    "\n",
    "# Appliquer ARIMA pour prédire PM2.5\n",
    "model_pm25 = ARIMA(df['PM2.5'], order=(5, 1, 0)) \n",
    "model_pm25_fit = model_pm25.fit()\n",
    "\n",
    "# Faire des prévisions pour les 2 prochaines heures pour CO\n",
    "forecast_co = model_co_fit.forecast(steps=2)\n",
    "print(\"Prévisions ARIMA pour CO:\", forecast_co, \"\\n\")\n",
    "\n",
    "# Faire des prévisions pour les 2 prochaines heures pour PM2.5\n",
    "forecast_pm25 = model_pm25_fit.forecast(steps=2)\n",
    "print(\"Prévisions ARIMA pour PM2.5:\", forecast_pm25)"
   ]
  },
  {
   "cell_type": "code",
   "execution_count": null,
   "id": "5b074470-8a6a-430a-87e8-b5dccf95dc5e",
   "metadata": {},
   "outputs": [],
   "source": []
  }
 ],
 "metadata": {
  "kernelspec": {
   "display_name": "Python 3 (ipykernel)",
   "language": "python",
   "name": "python3"
  },
  "language_info": {
   "codemirror_mode": {
    "name": "ipython",
    "version": 3
   },
   "file_extension": ".py",
   "mimetype": "text/x-python",
   "name": "python",
   "nbconvert_exporter": "python",
   "pygments_lexer": "ipython3",
   "version": "3.12.4"
  }
 },
 "nbformat": 4,
 "nbformat_minor": 5
}
