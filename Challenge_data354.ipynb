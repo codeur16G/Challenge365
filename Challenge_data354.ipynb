{
 "cells": [
  {
   "cell_type": "markdown",
   "id": "e3d68ea6-1019-4f34-8fa8-e35dd9f1aa4b",
   "metadata": {},
   "source": [
    "#### Structure du projet\n",
    "Le projet consiste à :\n",
    "\n",
    "**Extraire des données horaires** sur la qualité de l'air depuis l'API AirQuino.  \n",
    "**Calculer la moyenne journalière** des niveaux de CO et PM2.5 pour chaque capteur.  \n",
    "**Stocker ces données dans une base MongoDB**. \n",
    "**Fournir un dashboard superset** pour visualiser les données.  \n",
    "**Prévoir les deux prochaines heures** des niveaux de CO et PM2.5 en utilisant un modèle ARIMA.  \n",
    "\n",
    "##### Prérequis\n",
    "Avant de pouvoir exécuter ce code, assurez-vous d'avoir installé les bibliothèques suivantes :\n",
    "\n",
    "**requests** pour envoyer des requêtes HTTP.  \n",
    "**pandas** pour manipuler les données.  \n",
    "**pymongo** pour interagir avec la base de données MongoDB.  \n",
    "**statsmodels** pour les prévisions avec ARIMA.  \n",
    "Si ces packages ne sont pas installés, vous pouvez les installer en utilisant pip :    \n",
    "**pip install requests pandas pymongo statsmodels**  \n",
    "\n",
    "##### Installation de MongoDB\n",
    "MongoDB doit être installé et en cours d'exécution localement pour stocker les moyennes journalières. Vous pouvez télécharger MongoDB depuis ici https://www.mongodb.com/try/download/community.\n",
    "\n",
    "**Installez MongoDB**.\n",
    "Assurez-vous que le serveur MongoDB est en cours d'exécution :"
   ]
  },
  {
   "cell_type": "code",
   "execution_count": 2,
   "id": "8f201ae9-dc32-4803-98f8-3fb577072aa9",
   "metadata": {},
   "outputs": [],
   "source": [
    "# Importer le package requests\n",
    "import requests\n",
    "import pandas as pd\n",
    "from pymongo import MongoClient\n",
    "from datetime import datetime\n",
    "from statsmodels.tsa.arima.model import ARIMA"
   ]
  },
  {
   "cell_type": "markdown",
   "id": "b4111640-5c9c-4e9e-ace2-fb17ae4062a3",
   "metadata": {},
   "source": [
    "## Extraction de données"
   ]
  },
  {
   "cell_type": "markdown",
   "id": "660a1dcb-b286-4b06-91d1-2559cb70dbe2",
   "metadata": {},
   "source": [
    "**Envoyer une requête à l'API AirQuino**  \n",
    "Le script commence par envoyer une requête à l'API pour récupérer des données horaires de la station.  \n",
    "Si la réponse est correcte (statut 200), les données JSON sont extraites et traitées."
   ]
  },
  {
   "cell_type": "code",
   "execution_count": 3,
   "id": "8f014b40-dbd1-4331-b25a-9b6e5af33cfc",
   "metadata": {},
   "outputs": [],
   "source": [
    "# l'URL de l'API \n",
    "url = r'https://airqino-api.magentalab.it/v3/getStationHourlyAvg/283164601'\n",
    "\n",
    "# Effectuer la requête GET\n",
    "response = requests.get(url) \n",
    "\n",
    "# Vérifier si la réponse est réussi \n",
    "if response.status_code == 200:\n",
    "    # Traiter les données JSON\n",
    "    data = response.json()\n",
    "else:\n",
    "    print(f\"Erreur : {response.status_code}\")"
   ]
  },
  {
   "cell_type": "markdown",
   "id": "45675751-f391-4121-aa99-44fa77e18b02",
   "metadata": {},
   "source": [
    "**Conversion en DataFrame**  \n",
    "Les données récupérées sont transformées en DataFrame pour une manipulation facile."
   ]
  },
  {
   "cell_type": "code",
   "execution_count": 4,
   "id": "dcadf3c6-dcf8-4f21-b5ac-77bb2b399a73",
   "metadata": {},
   "outputs": [
    {
     "data": {
      "text/html": [
       "<div>\n",
       "<style scoped>\n",
       "    .dataframe tbody tr th:only-of-type {\n",
       "        vertical-align: middle;\n",
       "    }\n",
       "\n",
       "    .dataframe tbody tr th {\n",
       "        vertical-align: top;\n",
       "    }\n",
       "\n",
       "    .dataframe thead th {\n",
       "        text-align: right;\n",
       "    }\n",
       "</style>\n",
       "<table border=\"1\" class=\"dataframe\">\n",
       "  <thead>\n",
       "    <tr style=\"text-align: right;\">\n",
       "      <th></th>\n",
       "      <th>timestamp</th>\n",
       "      <th>CO</th>\n",
       "      <th>T</th>\n",
       "      <th>T. int.</th>\n",
       "      <th>NO2</th>\n",
       "      <th>O3</th>\n",
       "      <th>PM10</th>\n",
       "      <th>PM2.5</th>\n",
       "      <th>RH</th>\n",
       "    </tr>\n",
       "  </thead>\n",
       "  <tbody>\n",
       "    <tr>\n",
       "      <th>0</th>\n",
       "      <td>2023-09-15 20:00:00</td>\n",
       "      <td>0.0</td>\n",
       "      <td>26.223333</td>\n",
       "      <td>367.63333</td>\n",
       "      <td>19.783640</td>\n",
       "      <td>24.070265</td>\n",
       "      <td>14.866667</td>\n",
       "      <td>5.000000</td>\n",
       "      <td>90.67667</td>\n",
       "    </tr>\n",
       "    <tr>\n",
       "      <th>1</th>\n",
       "      <td>2023-09-15 21:00:00</td>\n",
       "      <td>0.0</td>\n",
       "      <td>26.186666</td>\n",
       "      <td>366.93332</td>\n",
       "      <td>19.460062</td>\n",
       "      <td>25.548030</td>\n",
       "      <td>16.000000</td>\n",
       "      <td>5.100000</td>\n",
       "      <td>91.33667</td>\n",
       "    </tr>\n",
       "    <tr>\n",
       "      <th>2</th>\n",
       "      <td>2023-09-15 22:00:00</td>\n",
       "      <td>0.0</td>\n",
       "      <td>26.210001</td>\n",
       "      <td>367.23334</td>\n",
       "      <td>19.419436</td>\n",
       "      <td>25.756544</td>\n",
       "      <td>15.133333</td>\n",
       "      <td>4.033333</td>\n",
       "      <td>91.37667</td>\n",
       "    </tr>\n",
       "    <tr>\n",
       "      <th>3</th>\n",
       "      <td>2023-09-15 23:00:00</td>\n",
       "      <td>0.0</td>\n",
       "      <td>26.013334</td>\n",
       "      <td>365.23334</td>\n",
       "      <td>19.018366</td>\n",
       "      <td>27.521160</td>\n",
       "      <td>13.833333</td>\n",
       "      <td>3.600000</td>\n",
       "      <td>91.71333</td>\n",
       "    </tr>\n",
       "    <tr>\n",
       "      <th>4</th>\n",
       "      <td>2023-09-16 00:00:00</td>\n",
       "      <td>0.0</td>\n",
       "      <td>25.723333</td>\n",
       "      <td>362.13333</td>\n",
       "      <td>18.552538</td>\n",
       "      <td>29.524677</td>\n",
       "      <td>11.200000</td>\n",
       "      <td>2.066667</td>\n",
       "      <td>93.78000</td>\n",
       "    </tr>\n",
       "  </tbody>\n",
       "</table>\n",
       "</div>"
      ],
      "text/plain": [
       "             timestamp   CO          T    T. int.        NO2         O3  \\\n",
       "0  2023-09-15 20:00:00  0.0  26.223333  367.63333  19.783640  24.070265   \n",
       "1  2023-09-15 21:00:00  0.0  26.186666  366.93332  19.460062  25.548030   \n",
       "2  2023-09-15 22:00:00  0.0  26.210001  367.23334  19.419436  25.756544   \n",
       "3  2023-09-15 23:00:00  0.0  26.013334  365.23334  19.018366  27.521160   \n",
       "4  2023-09-16 00:00:00  0.0  25.723333  362.13333  18.552538  29.524677   \n",
       "\n",
       "        PM10     PM2.5        RH  \n",
       "0  14.866667  5.000000  90.67667  \n",
       "1  16.000000  5.100000  91.33667  \n",
       "2  15.133333  4.033333  91.37667  \n",
       "3  13.833333  3.600000  91.71333  \n",
       "4  11.200000  2.066667  93.78000  "
      ]
     },
     "execution_count": 4,
     "metadata": {},
     "output_type": "execute_result"
    }
   ],
   "source": [
    "# convertion des données en dataFrame \n",
    "df = pd.DataFrame(data['data'])\n",
    "\n",
    "# Affichage du tableau \n",
    "df.head()"
   ]
  },
  {
   "cell_type": "markdown",
   "id": "7dc8d9f8-9c29-4f7c-b413-f12923413390",
   "metadata": {},
   "source": [
    "**Transformation des données**  \n",
    "\n",
    "La colonne timestamp est convertie en format datetime.  \n",
    "La date est extraite pour faciliter les calculs journaliers."
   ]
  },
  {
   "cell_type": "code",
   "execution_count": null,
   "id": "382663ae-d41c-41ce-a918-303acf93d36e",
   "metadata": {},
   "outputs": [],
   "source": [
    "# Convertir le timestamp en format datetime \n",
    "df['timestamp'] = pd.to_datetime(df['timestamp'])"
   ]
  },
  {
   "cell_type": "code",
   "execution_count": null,
   "id": "f4fb8c05-6e51-4760-ada4-761346d1b8d9",
   "metadata": {},
   "outputs": [],
   "source": [
    "# Extraire la date seulement\n",
    "df['date'] = df['timestamp'].dt.date"
   ]
  },
  {
   "cell_type": "markdown",
   "id": "823641c7-3f60-4b1c-aca5-aac10ee0e585",
   "metadata": {},
   "source": [
    "**Calcul des moyennes journalières**  \n",
    "Les moyennes des niveaux de CO et PM2.5 sont calculées par jour et pour chaque capteur."
   ]
  },
  {
   "cell_type": "code",
   "execution_count": null,
   "id": "651138f4-de33-4b13-af7f-e8731268ae9e",
   "metadata": {},
   "outputs": [],
   "source": [
    "# Calculer la moyenne par jour pour chaque capteur \n",
    "daily_avg = df.groupby(['date'])[['CO','PM2.5']].mean().reset_index()\n",
    "\n",
    "daily_avg.head()"
   ]
  },
  {
   "cell_type": "markdown",
   "id": "082255a4-8bed-41d2-b0c6-b61706a0561c",
   "metadata": {},
   "source": [
    "**Connexion à MongoDB**   \n",
    "Le script se connecte à une base de données MongoDB locale."
   ]
  },
  {
   "cell_type": "code",
   "execution_count": null,
   "id": "94eb4796-df9a-4bf1-8b1d-bb1bbf98f04c",
   "metadata": {},
   "outputs": [],
   "source": [
    "# Connexion a MongoDB \n",
    "client = MongoClient('mongodb://localhost:27017/') \n",
    "db = client['data354']\n",
    "collection = db['daily_averages']"
   ]
  },
  {
   "cell_type": "markdown",
   "id": "68eb5db2-1011-4e69-96f1-66b5dc3f588c",
   "metadata": {},
   "source": [
    "**Insertion des données dans MongoDB**  \n",
    "Les moyennes journalières sont formatées et insérées dans la collection MongoDB."
   ]
  },
  {
   "cell_type": "code",
   "execution_count": null,
   "id": "c286a346-552f-4675-a50d-b22ed69f121e",
   "metadata": {},
   "outputs": [],
   "source": [
    "# Préparer les données a insérer dans MongoDB \n",
    "records = []\n",
    "for _,row in daily_avg.iterrows():\n",
    "    record = {\n",
    "        \"Station_name\": data['header']['station_name'], \n",
    "        \"date\": row['date'].strftime('%Y-%m-%d'), \n",
    "        \"CO_avg\": row['CO'], \n",
    "        \"PM2.5_avg\": row['PM2.5'],\n",
    "        \"station_lat\": data['header']['station_lat'],\n",
    "        \"station_lon\": data['header']['station_lon']\n",
    "    }\n",
    "    records.append(record)\n",
    "\n",
    "# Insérer les données dans la collection MongoDB \n",
    "collection.insert_many(records)\n",
    "\n",
    "print(\"Données insérées avec succès dans MongoDB!\")"
   ]
  },
  {
   "cell_type": "code",
   "execution_count": null,
   "id": "f8ca6ec6-4b9f-4e76-a602-c6b62a5cd2a2",
   "metadata": {},
   "outputs": [],
   "source": [
    "# daily_avg.to_csv('challenge354.csv', index=False)"
   ]
  },
  {
   "cell_type": "code",
   "execution_count": null,
   "id": "c1e3f9f9-f1ec-4155-b7e3-6ba8029aae75",
   "metadata": {},
   "outputs": [],
   "source": [
    "# df.to_csv('data.csv', index=False)"
   ]
  },
  {
   "cell_type": "markdown",
   "id": "18da0eca-2e60-4045-ad29-908a1657a131",
   "metadata": {},
   "source": [
    "**Prévision avec ARIMA**  \n",
    "Le modèle ARIMA est utilisé pour prévoir les niveaux de CO et PM2.5 pour les deux prochaines heures."
   ]
  },
  {
   "cell_type": "code",
   "execution_count": null,
   "id": "5f08eaa1-43ce-4d53-a70e-81a3b06f1867",
   "metadata": {},
   "outputs": [],
   "source": [
    "# Convertir la colonne timestamp en datetime\n",
    "df['timestamp'] = pd.to_datetime(df['timestamp'])\n",
    "\n",
    "# Définir le timestamp comme index\n",
    "df.set_index('timestamp', inplace=True)\n",
    "\n",
    "# Définir explicitement la fréquence à 'h' pour les données horaires\n",
    "df = df.asfreq('h')\n",
    "\n",
    "# Appliquer ARIMA pour prédire CO\n",
    "model_co = ARIMA(df['CO'], order=(5, 1, 0))  \n",
    "model_co_fit = model_co.fit()\n",
    "\n",
    "# Appliquer ARIMA pour prédire PM2.5\n",
    "model_pm25 = ARIMA(df['PM2.5'], order=(5, 1, 0)) \n",
    "model_pm25_fit = model_pm25.fit()\n",
    "\n",
    "# Faire des prévisions pour les 2 prochaines heures pour CO\n",
    "forecast_co = model_co_fit.forecast(steps=2)\n",
    "print(\"Prévisions ARIMA pour CO:\", forecast_co, \"\\n\")\n",
    "\n",
    "# Faire des prévisions pour les 2 prochaines heures pour PM2.5\n",
    "forecast_pm25 = model_pm25_fit.forecast(steps=2)\n",
    "print(\"Prévisions ARIMA pour PM2.5:\", forecast_pm25)"
   ]
  },
  {
   "cell_type": "markdown",
   "id": "e72be634-2e77-4387-9da0-fafc840fa96b",
   "metadata": {},
   "source": []
  }
 ],
 "metadata": {
  "kernelspec": {
   "display_name": "Python 3 (ipykernel)",
   "language": "python",
   "name": "python3"
  },
  "language_info": {
   "codemirror_mode": {
    "name": "ipython",
    "version": 3
   },
   "file_extension": ".py",
   "mimetype": "text/x-python",
   "name": "python",
   "nbconvert_exporter": "python",
   "pygments_lexer": "ipython3",
   "version": "3.12.4"
  }
 },
 "nbformat": 4,
 "nbformat_minor": 5
}
